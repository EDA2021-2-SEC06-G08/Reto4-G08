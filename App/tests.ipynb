{
 "cells": [
  {
   "cell_type": "code",
   "execution_count": 3,
   "metadata": {},
   "outputs": [],
   "source": [
    "import config as cf\n",
    "from DISClib.ADT import list as lt\n",
    "from DISClib.ADT import map as mp\n",
    "from DISClib.ADT import graph as gph\n",
    "from DISClib.DataStructures import mapentry as me\n",
    "from DISClib.Algorithms.Sorting import shellsort as sa\n",
    "import csv\n",
    "assert cf\n",
    "\n",
    "def create_catalog():\n",
    "    catalog = {\n",
    "        \"routesdg\" : gph.newGraph(directed=True, size=10000),\n",
    "        \"routesndg\": gph.newGraph(size=3000),\n",
    "        # \"name2IATA\" : mp.newMap(10000,maptype=\"PROBING\"),\n",
    "        \"IATA2name\" : mp.newMap(10000,maptype=\"PROBING\"),\n",
    "        \"DuplicateRoute\" : mp.newMap(50000,maptype=\"PROBING\"),\n",
    "        \"Cities\": mp.newMap(41002,maptype=\"PROBING\")\n",
    "    }\n",
    "\n",
    "    return catalog\n",
    "\n",
    "# Funciones para agregar informacion al catalogo\n",
    "\n",
    "def add_airport(catalog, airport):\n",
    "    table = catalog[\"IATA2name\"]\n",
    "    IATA = airport[\"IATA\"]\n",
    "    if not mp.contains(table,IATA):\n",
    "        mp.put(table, IATA, airport)\n",
    "\n",
    "catalog = create_catalog()"
   ]
  },
  {
   "cell_type": "code",
   "execution_count": 5,
   "metadata": {},
   "outputs": [],
   "source": [
    "file = r\"C:\\Users\\camil\\OneDrive\\Desktop\\Los Andes\\5to Semestre\\EDA\\Retos\\Reto4-G08\\Data\\Skylines\\airports_full.csv\"\n",
    "airports = csv.DictReader(open(file, encoding=\"utf-8\"), delimiter=\",\")\n",
    "for airport in airports:\n",
    "    add_airport(catalog, airport)"
   ]
  },
  {
   "cell_type": "code",
   "execution_count": 12,
   "metadata": {},
   "outputs": [],
   "source": [
    "a = set()\n",
    "\n",
    "file = r\"C:\\Users\\camil\\OneDrive\\Desktop\\Los Andes\\5to Semestre\\EDA\\Retos\\Reto4-G08\\Data\\Skylines\\routes_full.csv\"\n",
    "routes = csv.DictReader(open(file, encoding=\"utf-8\"), delimiter=\",\")\n",
    "for route in routes:\n",
    "    a.add(route[\"Departure\"])\n",
    "    a.add(route[\"Destination\"])"
   ]
  },
  {
   "cell_type": "code",
   "execution_count": 14,
   "metadata": {},
   "outputs": [
    {
     "data": {
      "text/plain": [
       "3971"
      ]
     },
     "execution_count": 14,
     "metadata": {},
     "output_type": "execute_result"
    }
   ],
   "source": [
    "len(a)"
   ]
  }
 ],
 "metadata": {
  "interpreter": {
   "hash": "0cba474e7825f64be150054d33f41c13189b23e3584ee774a895505ffe3f9592"
  },
  "kernelspec": {
   "display_name": "Python 3.10.0 64-bit",
   "language": "python",
   "name": "python3"
  },
  "language_info": {
   "codemirror_mode": {
    "name": "ipython",
    "version": 3
   },
   "file_extension": ".py",
   "mimetype": "text/x-python",
   "name": "python",
   "nbconvert_exporter": "python",
   "pygments_lexer": "ipython3",
   "version": "3.10.0"
  },
  "orig_nbformat": 4
 },
 "nbformat": 4,
 "nbformat_minor": 2
}
